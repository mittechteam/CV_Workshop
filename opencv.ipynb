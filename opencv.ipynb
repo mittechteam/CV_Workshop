{
 "cells": [
  {
   "cell_type": "markdown",
   "metadata": {
    "id": "oil0iLfH_Qhr"
   },
   "source": [
    "#                                     CV Workshop\n"
   ]
  },
  {
   "cell_type": "markdown",
   "metadata": {
    "id": "Bw9u00GD_Qhs"
   },
   "source": [
    "### Install libs"
   ]
  },
  {
   "cell_type": "code",
   "execution_count": null,
   "metadata": {
    "colab": {
     "base_uri": "https://localhost:8080/"
    },
    "executionInfo": {
     "elapsed": 9788,
     "status": "ok",
     "timestamp": 1729689776031,
     "user": {
      "displayName": "Danish",
      "userId": "15337276721026380161"
     },
     "user_tz": -330
    },
    "id": "gD4h69xP_Qht",
    "outputId": "66351d58-0eb0-481b-e89f-7c4a850426ba"
   },
   "outputs": [],
   "source": [
    "pip install matplotlib  opencv-python numpy"
   ]
  },
  {
   "cell_type": "code",
   "execution_count": 3,
   "metadata": {
    "executionInfo": {
     "elapsed": 1218,
     "status": "ok",
     "timestamp": 1736733179332,
     "user": {
      "displayName": "samyak kharat",
      "userId": "15076698136967446388"
     },
     "user_tz": -330
    },
    "id": "SJrGY9-__Qhu"
   },
   "outputs": [],
   "source": [
    "# Import libs\n",
    "import cv2\n",
    "import numpy as np\n",
    "import matplotlib.pyplot as plt"
   ]
  },
  {
   "cell_type": "markdown",
   "metadata": {
    "id": "Lx6L2IpY_Qhw"
   },
   "source": [
    "### Create Image"
   ]
  },
  {
   "cell_type": "code",
   "execution_count": null,
   "metadata": {
    "colab": {
     "base_uri": "https://localhost:8080/",
     "height": 453
    },
    "executionInfo": {
     "elapsed": 1267,
     "status": "error",
     "timestamp": 1736733184365,
     "user": {
      "displayName": "samyak kharat",
      "userId": "15076698136967446388"
     },
     "user_tz": -330
    },
    "id": "I9BnWrTt_Qhw",
    "outputId": "bb3cab2c-9f73-4b36-c023-7df652ceab81"
   },
   "outputs": [],
   "source": [
    "\n",
    "width, height = 640, 480\n",
    "color = (255, 255, 255)\n",
    "\n",
    "img = np.full((height, width, 3), color, dtype=np.uint8)\n",
    "print(img)\n",
    "\n",
    "cv2.imshow( 'Image Window', img)\n",
    "cv2.waitKey(0)\n",
    "cv2.destroyAllWindows()"
   ]
  },
  {
   "cell_type": "markdown",
   "metadata": {
    "id": "5T1xMgU1_Qhw"
   },
   "source": [
    "### Change colour space"
   ]
  },
  {
   "cell_type": "code",
   "execution_count": 16,
   "metadata": {
    "id": "1QwraFTt_Qhw"
   },
   "outputs": [],
   "source": [
    "image_rgb = cv2.cvtColor(img, cv2.COLOR_BGR2HSV)\n",
    "cv2.imshow('Image Window', image_rgb)\n",
    "\n",
    "cv2.waitKey(0)\n",
    "\n",
    "cv2.destroyAllWindows()"
   ]
  },
  {
   "cell_type": "markdown",
   "metadata": {
    "id": "OJB9V-X4_Qhx"
   },
   "source": [
    "### Plot image"
   ]
  },
  {
   "cell_type": "code",
   "execution_count": null,
   "metadata": {
    "id": "_EQ9H66d_Qhx",
    "outputId": "61b195fb-58cf-4a9e-df4b-7e5a715cc60b"
   },
   "outputs": [],
   "source": [
    "\n",
    "image_rgb = cv2.cvtColor(img, cv2.COLOR_BGR2RGB)\n",
    "\n",
    "cv2.imshow('Image Window', img)\n",
    "plt.imshow(img)\n",
    "plt.show()\n",
    "cv2.waitKey(0)\n",
    "\n",
    "cv2.destroyAllWindows()"
   ]
  },
  {
   "cell_type": "markdown",
   "metadata": {
    "id": "tgi7Du6O_Qhy"
   },
   "source": [
    "#### Draw objects on image"
   ]
  },
  {
   "cell_type": "code",
   "execution_count": null,
   "metadata": {
    "id": "Vv25h6Bc_Qhy"
   },
   "outputs": [],
   "source": [
    "start_point = (50,50)\n",
    "end_point = (300,300)\n",
    "color = (255, 0, 255)\n",
    "thickness = 5\n",
    "cv2.line(img, start_point, end_point, color, thickness)\n",
    "\n",
    "cv2.imshow('Image Window', img)\n",
    "plt.imshow(img)\n",
    "cv2.waitKey(0)\n",
    "cv2.destroyAllWindows()"
   ]
  },
  {
   "cell_type": "code",
   "execution_count": null,
   "metadata": {
    "id": "Q85NrKGD_Qhy"
   },
   "outputs": [],
   "source": [
    "top_left = (100, 100)\n",
    "bottom_right =  (400, 300)\n",
    "color = (255, 0, 255)\n",
    "thickness = 5\n",
    "cv2.rectangle(img, top_left,bottom_right, color, thickness)\n",
    "\n",
    "cv2.imshow('Image Window', img)\n",
    "plt.imshow(img)\n",
    "cv2.waitKey(0)\n",
    "cv2.destroyAllWindows()"
   ]
  },
  {
   "cell_type": "code",
   "execution_count": null,
   "metadata": {
    "id": "p_KPAtwn_Qhz"
   },
   "outputs": [],
   "source": [
    "centre = (320, 240)\n",
    "radius = 50\n",
    "color = (255, 0, 255)\n",
    "thickness = 3\n",
    "\n",
    "cv2.circle(img, centre, radius, color,thickness )\n",
    "\n",
    "cv2.imshow('Image Window', img)\n",
    "plt.imshow(img)\n",
    "cv2.waitKey(0)\n",
    "cv2.destroyAllWindows()"
   ]
  },
  {
   "cell_type": "code",
   "execution_count": 10,
   "metadata": {
    "id": "_wNuGqhS_Qhz"
   },
   "outputs": [],
   "source": [
    "bottom_left = (50, 450)\n",
    "font_scale = 1\n",
    "color = (0, 0, 0)\n",
    "thickness = 2\n",
    "\n",
    "cv2.putText(img, 'Hello, OpenCV!', bottom_left, cv2.FONT_HERSHEY_SIMPLEX, font_scale, color, thickness)\n",
    "\n",
    "cv2.imshow('Image Window', img)\n",
    "cv2.waitKey(0)\n",
    "cv2.destroyAllWindows()"
   ]
  },
  {
   "cell_type": "markdown",
   "metadata": {
    "id": "fKKZWTdf_Qhz"
   },
   "source": [
    "### Read Image and Show Image"
   ]
  },
  {
   "cell_type": "code",
   "execution_count": 4,
   "metadata": {
    "id": "5KZzGfdP_Qhz"
   },
   "outputs": [],
   "source": [
    "bit1 = cv2.imread('res\\\\bit1.png')\n",
    "bit2 = cv2.imread('res\\\\bit2.png')\n",
    "img = cv2.imread('res\\image.png')"
   ]
  },
  {
   "cell_type": "code",
   "execution_count": 6,
   "metadata": {
    "id": "SWvGg1yN_Qh0"
   },
   "outputs": [],
   "source": [
    "\n",
    "cv2.imshow('Image Window', img)\n",
    "\n",
    "cv2.waitKey(0)\n",
    "cv2.destroyAllWindows()"
   ]
  },
  {
   "cell_type": "markdown",
   "metadata": {
    "id": "b_-Jannx_Qh0"
   },
   "source": [
    "### Rotate image"
   ]
  },
  {
   "cell_type": "code",
   "execution_count": 5,
   "metadata": {
    "id": "Yt8R1Hjv_Qh0"
   },
   "outputs": [],
   "source": [
    "img = cv2.rotate(img,cv2.ROTATE_90)\n",
    "\n",
    "cv2.imshow('Image Window', img)\n",
    "cv2.waitKey(0)\n",
    "cv2.destroyAllWindows()"
   ]
  },
  {
   "cell_type": "markdown",
   "metadata": {
    "id": "Vcj0V8UA_Qh0"
   },
   "source": [
    "### Resize Image"
   ]
  },
  {
   "cell_type": "code",
   "execution_count": null,
   "metadata": {
    "id": "COGGOFqX_Qh0"
   },
   "outputs": [],
   "source": [
    "\n",
    "img_r = cv2.resize(img, (720, 480))\n",
    "\n",
    "image_rgb = cv2.cvtColor(img_r, cv2.COLOR_BGR2RGB)\n",
    "\n",
    "\n",
    "plt.imshow(image_rgb)\n",
    "plt.show()\n",
    "\n",
    "cv2.imshow('Image Window', img_r)\n",
    "cv2.waitKey(0)\n",
    "cv2.destroyAllWindows()"
   ]
  },
  {
   "cell_type": "markdown",
   "metadata": {
    "id": "04xoFq3h_Qh0"
   },
   "source": [
    "### Bitwise operation"
   ]
  },
  {
   "cell_type": "code",
   "execution_count": 9,
   "metadata": {
    "id": "XwJ7PEtT_Qh1"
   },
   "outputs": [],
   "source": [
    "\n",
    "result = cv2.bitwise_and(bit1,bit2)\n",
    "\n",
    "cv2.imshow('Image Window', result)\n",
    "\n",
    "cv2.waitKey(0)\n",
    "cv2.destroyAllWindows()"
   ]
  },
  {
   "cell_type": "markdown",
   "metadata": {
    "id": "Zs5D-MZu_Qh1"
   },
   "source": [
    "### Masking the image"
   ]
  },
  {
   "cell_type": "code",
   "execution_count": 6,
   "metadata": {
    "id": "NDEGAfWU_Qh1"
   },
   "outputs": [],
   "source": [
    "\n",
    "hsv = cv2.cvtColor(img, cv2.COLOR_BGR2HSV)\n",
    "\n",
    "lower_bound = np.array([53, 100, 100])\n",
    "upper_bound = np.array([160, 255, 255])\n",
    "\n",
    "mask = cv2.inRange(hsv,lower_bound,upper_bound)\n",
    "\n",
    "cv2.imshow('Mask Window', mask)\n",
    "cv2.imshow('Image ', img)\n",
    "\n",
    "cv2.waitKey(0)\n",
    "cv2.destroyAllWindows()"
   ]
  },
  {
   "cell_type": "markdown",
   "metadata": {
    "id": "bpgLrudo_Qh1"
   },
   "source": [
    "### Extracting Object"
   ]
  },
  {
   "cell_type": "code",
   "execution_count": 7,
   "metadata": {
    "id": "157Hbcby_Qh1"
   },
   "outputs": [],
   "source": [
    "\n",
    "hsv = cv2.cvtColor(img, cv2.COLOR_BGR2HSV)\n",
    "\n",
    "lower_bound = np.array([53, 100, 100])\n",
    "upper_bound = np.array([160, 255, 255])\n",
    "\n",
    "mask = cv2.inRange(hsv,lower_bound,upper_bound)\n",
    "\n",
    "result = cv2.bitwise_and(img,img,mask=mask)\n",
    "\n",
    "cv2.imshow('Mask Window', mask)\n",
    "cv2.imshow('Image ', result)\n",
    "\n",
    "cv2.waitKey(0)\n",
    "cv2.destroyAllWindows()"
   ]
  },
  {
   "cell_type": "markdown",
   "metadata": {},
   "source": [
    "### Bounding Rectangle"
   ]
  },
  {
   "cell_type": "code",
   "execution_count": 27,
   "metadata": {},
   "outputs": [],
   "source": [
    "x, y, w, h = cv2.boundingRect(mask)\n",
    "cv2.rectangle(img, (x - 20, y - 20), (x + w + 20, y + h + 20), (0, 255, 0), 1)\n",
    "\n",
    "cv2.imshow('Mask Window', mask)\n",
    "cv2.imshow('Image ', img)\n",
    "\n",
    "cv2.waitKey(0)\n",
    "cv2.destroyAllWindows()"
   ]
  },
  {
   "cell_type": "markdown",
   "metadata": {
    "id": "TvVjPxQX_Qh1"
   },
   "source": [
    "### Playing a video"
   ]
  },
  {
   "cell_type": "code",
   "execution_count": 11,
   "metadata": {
    "id": "U0DfR18u_Qh1"
   },
   "outputs": [],
   "source": [
    "\n",
    "vid = cv2.VideoCapture(\"Res\\\\ball_for_tracking.mov\")\n",
    "\n",
    "while True:\n",
    "    ret, img = vid.read()\n",
    "    if not ret:\n",
    "        break\n",
    "\n",
    "    cv2.imshow(\"Video\",img)\n",
    "\n",
    "    if cv2.waitKey(1) & 0xFF == ord(\"x\"):\n",
    "        break\n",
    "cv2.destroyAllWindows()"
   ]
  }
 ],
 "metadata": {
  "colab": {
   "provenance": []
  },
  "kernelspec": {
   "display_name": "Python 3",
   "language": "python",
   "name": "python3"
  },
  "language_info": {
   "codemirror_mode": {
    "name": "ipython",
    "version": 3
   },
   "file_extension": ".py",
   "mimetype": "text/x-python",
   "name": "python",
   "nbconvert_exporter": "python",
   "pygments_lexer": "ipython3",
   "version": "3.10.10"
  }
 },
 "nbformat": 4,
 "nbformat_minor": 0
}
